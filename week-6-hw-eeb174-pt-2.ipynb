{
 "cells": [
  {
   "cell_type": "markdown",
   "metadata": {},
   "source": [
    "# Pt 2 "
   ]
  },
  {
   "cell_type": "markdown",
   "metadata": {},
   "source": [
    "find the dna   \n",
    "read dna  \n",
    "search for sequences in dna   \n"
   ]
  },
  {
   "cell_type": "code",
   "execution_count": 2,
   "metadata": {
    "collapsed": false
   },
   "outputs": [
    {
     "name": "stdout",
     "output_type": "stream",
     "text": [
      "ATG TTC GGT\n"
     ]
    }
   ],
   "source": [
    "dna = 'ATGTTCGGT'\n",
    "codon1 = dna[0:3]\n",
    "codon2 = dna[3:6]\n",
    "codon3 = dna[6:9]\n",
    "print(codon1, codon2, codon3)"
   ]
  },
  {
   "cell_type": "code",
   "execution_count": 3,
   "metadata": {
    "collapsed": false
   },
   "outputs": [
    {
     "name": "stdout",
     "output_type": "stream",
     "text": [
      "0\n",
      "3\n",
      "6\n"
     ]
    }
   ],
   "source": [
    "for beginning in range(0,7,3):\n",
    "    print(beginning)"
   ]
  },
  {
   "cell_type": "code",
   "execution_count": 5,
   "metadata": {
    "collapsed": false
   },
   "outputs": [
    {
     "name": "stdout",
     "output_type": "stream",
     "text": [
      "one codon is ATG\n",
      "one codon is TTC\n",
      "one codon is GGT\n"
     ]
    }
   ],
   "source": [
    "dna = 'ATGTTCGGT'\n",
    "for beginning in range(0,7,3):\n",
    "    codon = dna[beginning:beginning+3]\n",
    "    print(\"one codon is \" + codon)"
   ]
  },
  {
   "cell_type": "code",
   "execution_count": 6,
   "metadata": {
    "collapsed": false
   },
   "outputs": [
    {
     "name": "stdout",
     "output_type": "stream",
     "text": [
      "one codon is ATG\n",
      "one codon is TT\n",
      "one codon is \n"
     ]
    }
   ],
   "source": [
    "dna = 'ATGTT'\n",
    "for beginning in range(0,7,3):\n",
    "    codon = dna[beginning:beginning+3]\n",
    "    print(\"one codon is \" + codon)"
   ]
  },
  {
   "cell_type": "code",
   "execution_count": 7,
   "metadata": {
    "collapsed": false
   },
   "outputs": [
    {
     "name": "stdout",
     "output_type": "stream",
     "text": [
      "one codon is ATG\n",
      "one codon is TTC\n",
      "one codon is GGT\n"
     ]
    }
   ],
   "source": [
    "dna = 'ATGTTCGGTGAAGCGGGCTAGAT'\n",
    "for beginning in range(0,7,3):\n",
    "    codon = dna[beginning:beginning+3]\n",
    "    print(\"one codon is \" + codon)"
   ]
  },
  {
   "cell_type": "code",
   "execution_count": 8,
   "metadata": {
    "collapsed": false
   },
   "outputs": [
    {
     "name": "stdout",
     "output_type": "stream",
     "text": [
      "one codon is ATG\n",
      "one codon is TTC\n",
      "one codon is GGT\n"
     ]
    }
   ],
   "source": [
    "dna = 'ATGTTCGGT'\n",
    "last_codon_start = len(dna) - 2\n",
    "for beginning in range(0, last_codon_start,3):\n",
    "    codon = dna[beginning:beginning+3]\n",
    "    print(\"one codon is \" + codon)"
   ]
  },
  {
   "cell_type": "code",
   "execution_count": 21,
   "metadata": {
    "collapsed": true
   },
   "outputs": [],
   "source": [
    "gencode = {\n",
    "    'ATA':'I', 'ATC':'I', 'ATT':'I', 'ATG':'M',\n",
    "    'ACA':'T', 'ACC':'T', 'ACG':'T', 'ACT':'T',\n",
    "    'AAC':'N', 'AAT':'N', 'AAA':'K', 'AAG':'K',\n",
    "    'AGC':'S', 'AGT':'S', 'AGA':'R', 'AGG':'R',\n",
    "    'CTA':'L', 'CTC':'L', 'CTG':'L', 'CTT':'L',\n",
    "    'CCA':'P', 'CCC':'P', 'CCG':'P', 'CCT':'P',\n",
    "    'CAC':'H', 'CAT':'H', 'CAA':'Q', 'CAG':'Q',\n",
    "    'CGA':'R', 'CGC':'R', 'CGG':'R', 'CGT':'R',\n",
    "    'GTA':'V', 'GTC':'V', 'GTG':'V', 'GTT':'V',\n",
    "    'GCA':'A', 'GCC':'A', 'GCG':'A', 'GCT':'A',\n",
    "    'GAC':'D', 'GAT':'D', 'GAA':'E', 'GAG':'E',\n",
    "    'GGA':'G', 'GGC':'G', 'GGG':'G', 'GGT':'G',\n",
    "    'TCA':'S', 'TCC':'S', 'TCG':'S', 'TCT':'S',\n",
    "    'TTC':'F', 'TTT':'F', 'TTA':'L', 'TTG':'L',\n",
    "    'TAC':'Y', 'TAT':'Y', 'TAA':'_', 'TAG':'_',\n",
    "    'TGC':'C', 'TGT':'C', 'TGA':'_', 'TGG':'W'}"
   ]
  },
  {
   "cell_type": "code",
   "execution_count": 22,
   "metadata": {
    "collapsed": false
   },
   "outputs": [
    {
     "name": "stdout",
     "output_type": "stream",
     "text": [
      "one codon is ATG\n",
      "the amino acid is M\n",
      "one codon is TTC\n",
      "the amino acid is F\n",
      "one codon is GGT\n",
      "the amino acid is G\n"
     ]
    }
   ],
   "source": [
    "for base in range(0,last_codon_start,3):\n",
    "    codon=dna[base:base+3]\n",
    "    aa=gencode.get(codon)\n",
    "    print(\"one codon is \" + codon)\n",
    "    print(\"the amino acid is \" + aa)\n",
    "\n"
   ]
  },
  {
   "cell_type": "code",
   "execution_count": 23,
   "metadata": {
    "collapsed": false
   },
   "outputs": [
    {
     "name": "stdout",
     "output_type": "stream",
     "text": [
      "the protein sequence is M\n",
      "the protein sequence is MF\n",
      "the protein sequence is MFG\n"
     ]
    }
   ],
   "source": [
    "protein=\"\"\n",
    "for base in range(0,last_codon_start,3):\n",
    "    codon=dna[base:base+3]\n",
    "    aa=gencode.get(codon)\n",
    "    protein=protein + aa\n",
    "    print(\"the protein sequence is \" + protein)"
   ]
  },
  {
   "cell_type": "markdown",
   "metadata": {},
   "source": [
    "# PT 3"
   ]
  },
  {
   "cell_type": "code",
   "execution_count": 12,
   "metadata": {
    "collapsed": false
   },
   "outputs": [],
   "source": [
    "import scipy # for random numbers\n",
    "\n",
    "def build_population(N, p):\n",
    "\n",
    "    population = []\n",
    "    for i in range(N):\n",
    "        allele1 = \"A\"\n",
    "    if scipy.random.rand() > p:\n",
    "        allele1 = \"a\"\n",
    "        allele2 = \"A\"\n",
    "    if scipy.random.rand() > p:\n",
    "        allele2 = \"a\"\n",
    "    population.append((allele1, allele2))\n",
    "\n",
    "    return population"
   ]
  },
  {
   "cell_type": "code",
   "execution_count": 14,
   "metadata": {
    "collapsed": false
   },
   "outputs": [
    {
     "ename": "SyntaxError",
     "evalue": "invalid character in identifier (<ipython-input-14-9968779f7f1b>, line 2)",
     "output_type": "error",
     "traceback": [
      "\u001b[0;36m  File \u001b[0;32m\"<ipython-input-14-9968779f7f1b>\"\u001b[0;36m, line \u001b[0;32m2\u001b[0m\n\u001b[0;31m    (’a’, ’A’),\u001b[0m\n\u001b[0m       ^\u001b[0m\n\u001b[0;31mSyntaxError\u001b[0m\u001b[0;31m:\u001b[0m invalid character in identifier\n"
     ]
    }
   ],
   "source": [
    "build_population(10, 0.7)\n",
    "(’a’, ’A’),\n",
    "(’A’, ’A’),\n",
    "(’a’, ’a’),"
   ]
  },
  {
   "cell_type": "code",
   "execution_count": 24,
   "metadata": {
    "collapsed": false
   },
   "outputs": [
    {
     "ename": "SyntaxError",
     "evalue": "invalid character in identifier (<ipython-input-24-64d006b24d49>, line 3)",
     "output_type": "error",
     "traceback": [
      "\u001b[0;36m  File \u001b[0;32m\"<ipython-input-24-64d006b24d49>\"\u001b[0;36m, line \u001b[0;32m3\u001b[0m\n\u001b[0;31m    AA = population.count((’A’, ’A’))\u001b[0m\n\u001b[0m                             ^\u001b[0m\n\u001b[0;31mSyntaxError\u001b[0m\u001b[0;31m:\u001b[0m invalid character in identifier\n"
     ]
    }
   ],
   "source": [
    "def compute_frequencies(population):\n",
    "\n",
    "    AA = population.count((’A’, ’A’))\n",
    "    Aa = population.count((’A’, ’a’))\n",
    "    aA = population.count((’a’, ’A’))\n",
    "    aa = population.count((’a’, ’a’))\n",
    "return({’AA’: AA, ’aa’: aa, ’Aa’: Aa, ’aA’: aA})"
   ]
  },
  {
   "cell_type": "code",
   "execution_count": 19,
   "metadata": {
    "collapsed": false
   },
   "outputs": [
    {
     "ename": "SyntaxError",
     "evalue": "invalid character in identifier (<ipython-input-19-68f3196b430f>, line 10)",
     "output_type": "error",
     "traceback": [
      "\u001b[0;36m  File \u001b[0;32m\"<ipython-input-19-68f3196b430f>\"\u001b[0;36m, line \u001b[0;32m10\u001b[0m\n\u001b[0;31m    if genotype_counts[’AA’] == N or genotype_counts[’aa\u001b[0m\n\u001b[0m                          ^\u001b[0m\n\u001b[0;31mSyntaxError\u001b[0m\u001b[0;31m:\u001b[0m invalid character in identifier\n"
     ]
    }
   ],
   "source": [
    "def simulate_drift(N, p):\n",
    "# initialize the population\n",
    "    my_pop = drift.build_population(N, p)\n",
    "    fixation = False\n",
    "    num_generations = 0\n",
    "    while fixation == False:\n",
    "# compute genotype counts\n",
    "        genotype_counts = drift.compute_frequencies(my_pop)\n",
    "# if one allele went to fixation, end the simulation\n",
    "        if genotype_counts[’AA’] == N or genotype_counts[’aa\n",
    "’] == N:\n",
    "        print(’An allele reached fixation at generation’, num_generations)\n",
    "        print(’The genotype counts are’)\n",
    "        print(genotype_counts)\n",
    "        fixation == True\n",
    "        break\n",
    "# if not, reproduce\n",
    "    my_pop = drift.reproduce_population(my_pop)\n",
    "    num_generations = num_generations + 1"
   ]
  },
  {
   "cell_type": "code",
   "execution_count": null,
   "metadata": {
    "collapsed": true
   },
   "outputs": [],
   "source": []
  }
 ],
 "metadata": {
  "anaconda-cloud": {},
  "kernelspec": {
   "display_name": "Python [conda root]",
   "language": "python",
   "name": "conda-root-py"
  },
  "language_info": {
   "codemirror_mode": {
    "name": "ipython",
    "version": 3
   },
   "file_extension": ".py",
   "mimetype": "text/x-python",
   "name": "python",
   "nbconvert_exporter": "python",
   "pygments_lexer": "ipython3",
   "version": "3.5.2"
  }
 },
 "nbformat": 4,
 "nbformat_minor": 2
}
