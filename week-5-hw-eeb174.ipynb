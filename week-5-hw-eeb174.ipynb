{
 "cells": [
  {
   "cell_type": "markdown",
   "metadata": {},
   "source": [
    " `tail -n+4 formatted.nature.csv | cut -d \",\" -f -3 | sort | uniq | wc -l\n",
    "\n",
    "Questions (can be answered using shell or python commands)\n",
    "\n",
    "1.How many families are in this file?  \n",
    "2.Which family has the most species represented?  \n",
    "3.How many families have only a single species in them?  \n",
    "4.How many families are present in the eBird data?  \n",
    "5.How many species are in each family of the eBird data?  \n",
    "\n",
    "Write the answers to these questions in markdown format within your python notebooks. Set off code blocks showing your\n",
    "shell commands using the appropriate markdown syntax."
   ]
  },
  {
   "cell_type": "code",
   "execution_count": null,
   "metadata": {
    "collapsed": true
   },
   "outputs": [],
   "source": []
  }
 ],
 "metadata": {
  "anaconda-cloud": {},
  "kernelspec": {
   "display_name": "Python [conda root]",
   "language": "python",
   "name": "conda-root-py"
  },
  "language_info": {
   "codemirror_mode": {
    "name": "ipython",
    "version": 3
   },
   "file_extension": ".py",
   "mimetype": "text/x-python",
   "name": "python",
   "nbconvert_exporter": "python",
   "pygments_lexer": "ipython3",
   "version": "3.5.2"
  }
 },
 "nbformat": 4,
 "nbformat_minor": 2
}
