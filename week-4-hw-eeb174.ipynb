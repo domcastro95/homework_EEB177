{
 "cells": [
  {
   "cell_type": "markdown",
   "metadata": {},
   "source": [
    "# Week 4 Homework EEB 174"
   ]
  },
  {
   "cell_type": "markdown",
   "metadata": {
    "collapsed": true
   },
   "source": [
    "Part I"
   ]
  },
  {
   "cell_type": "markdown",
   "metadata": {},
   "source": [
    "Complementing DNA \n",
    "\n",
    "\"ACTGATCGATTACGTATAGTATTTGCTATCATACATATATATCGATGCGTTCAT\"\n",
    "\n",
    "Write a program that will print the complement of this sequence."
   ]
  },
  {
   "cell_type": "code",
   "execution_count": 9,
   "metadata": {
    "collapsed": false
   },
   "outputs": [
    {
     "name": "stdout",
     "output_type": "stream",
     "text": [
      "AGAGAAGGAAAAGGAAAAGAAAAAGGAAAGAAAGAAAAAAAAGGAAGGGAAGAA\n"
     ]
    }
   ],
   "source": [
    "c_dna = \"ACTGATCGATTACGTATAGTATTTGCTATCATACATATATATCGATGCGTTCAT\"\n",
    "replacement1 = c_dna.replace('A', 'T') #replaces A to T \n",
    "replacement2 = replacement1.replace('T', 'A') #replaces T to A \n",
    "replacement3 = replacement2.replace('G', 'C') #replace G to C\n",
    "replacement4 = replacement3.replace('C', 'G') #replace C to G\n",
    "print(replacement4) #prints final replacement"
   ]
  },
  {
   "cell_type": "code",
   "execution_count": 11,
   "metadata": {
    "collapsed": false
   },
   "outputs": [
    {
     "name": "stdout",
     "output_type": "stream",
     "text": [
      "TCTGTTCGTTTTCGTTTTGTTTTTGCTTTCTTTCTTTTTTTTCGTTGCGTTCTT\n",
      "ACAGAACGAAAACGAAAAGAAAAAGCAAACAAACAAAAAAAACGAAGCGAACAA\n",
      "ACACAACCAAAACCAAAACAAAAACCAAACAAACAAAAAAAACCAACCCAACAA\n",
      "AGAGAAGGAAAAGGAAAAGAAAAAGGAAAGAAAGAAAAAAAAGGAAGGGAAGAA\n"
     ]
    }
   ],
   "source": [
    "c_dna = \"ACTGATCGATTACGTATAGTATTTGCTATCATACATATATATCGATGCGTTCAT\"\n",
    "replacement1 = c_dna.replace('A', 'T')#replaces A to T \n",
    "print(replacement1)\n",
    "replacement2 = replacement1.replace('T', 'A') #replaces T to A\n",
    "print(replacement2)\n",
    "replacement3 = replacement2.replace('G', 'C') #replace G to C\n",
    "print(replacement3)\n",
    "replacement4 = replacement3.replace('C', 'G') #replace C to G\n",
    "print(replacement4) #prints final replacement"
   ]
  },
  {
   "cell_type": "code",
   "execution_count": 14,
   "metadata": {
    "collapsed": false
   },
   "outputs": [
    {
     "name": "stdout",
     "output_type": "stream",
     "text": [
      "tgactagctaatgcatatcataaacgatagtatgtatatatagctacgcaagta\n",
      "<built-in method capitalize of str object at 0x7f62e43843d8>\n"
     ]
    }
   ],
   "source": [
    "c_dna = \"ACTGATCGATTACGTATAGTATTTGCTATCATACATATATATCGATGCGTTCAT\"\n",
    "replacement1 = c_dna.replace('A', 't')#replaces A to t \n",
    "replacement2 = replacement1.replace('T', 'a') #replaces T to a\n",
    "replacement3 = replacement2.replace('G', 'c') #replace G to c\n",
    "replacement4 = replacement3.replace('C', 'g') #replace C to g\n",
    "print(replacement4) #prints final replacement w/ lower case\n",
    "print(replacement4.capitalize)"
   ]
  },
  {
   "cell_type": "code",
   "execution_count": 18,
   "metadata": {
    "collapsed": false
   },
   "outputs": [
    {
     "name": "stdout",
     "output_type": "stream",
     "text": [
      "TGACTAGCTAATGCATATCATAAACGATAGTATGTATATATAGCTACGCAAGTA\n"
     ]
    }
   ],
   "source": [
    "c_dna = \"ACTGATCGATTACGTATAGTATTTGCTATCATACATATATATCGATGCGTTCAT\"\n",
    "replacement1 = c_dna.replace('A', 't')#replaces A to t \n",
    "replacement2 = replacement1.replace('T', 'a') #replaces T to a\n",
    "replacement3 = replacement2.replace('G', 'c') #replace G to c\n",
    "replacement4 = replacement3.replace('C', 'g') #replace C to g\n",
    "print(replacement4.upper()) #prints all lower to upper case"
   ]
  },
  {
   "cell_type": "markdown",
   "metadata": {},
   "source": [
    "Restriction fragment lengths\n",
    "\n",
    "Here's a short DNA sequence:\n",
    "ACTGATCGATTACGTATAGTAG/AATTCTATCATACATATATATCGATGCGTTCAT\n",
    "\n",
    "The sequence contains a recognition site for the EcoRI restriction enzyme, which \n",
    "cuts at the motif G*AATTC (the position of the cut is indicated by an asterisk). \n",
    "Write a program which will calculate the size of the two fragments that will be \n",
    "produced when the DNA sequence is digested with EcoRI."
   ]
  },
  {
   "cell_type": "code",
   "execution_count": 22,
   "metadata": {
    "collapsed": false
   },
   "outputs": [
    {
     "name": "stdout",
     "output_type": "stream",
     "text": [
      "length of fragment 1 is 22\n",
      "length of fragment 2 is 33\n"
     ]
    }
   ],
   "source": [
    "my_dna = \"ACTGATCGATTACGTATAGTAGAATTCTATCATACATATATATCGATGCGTTCAT\"\n",
    "frag1_length = my_dna.find(\"GAATTC\") + 1 \n",
    "# plus 1 b/c you want to add the G in GAATTC the first length is 21 frag to make 22 frag\n",
    "frag2_length = len(my_dna) - frag1_length\n",
    "print(\"length of fragment 1 is \" + str(frag1_length))\n",
    "print(\"length of fragment 2 is \" + str(frag2_length))\n"
   ]
  },
  {
   "cell_type": "markdown",
   "metadata": {},
   "source": [
    "Splicing out introns, part one\n",
    "Here's a short section of genomic DNA:\n",
    "ATCGATCGATCGATCGACTGACTAGTCATAGCTATGCATGTAGCTACTCGATCGATCGATCGATCGATC\n",
    "GATCGATCGATCGATCATGCTATCATCGATCGATATCGATGCATCGACTACTAT\n",
    "\n",
    "It comprises two exons and an intron. The first exon runs from the \n",
    "start of the sequence to the sixty-third character, and the second exon runs from the ninety-\n",
    "first character to the end of the sequence. Write a program that will print just the coding regions of the DNA sequence. "
   ]
  },
  {
   "cell_type": "code",
   "execution_count": 36,
   "metadata": {
    "collapsed": false
   },
   "outputs": [
    {
     "name": "stdout",
     "output_type": "stream",
     "text": [
      "ATCGATCGATCGATCGACTGACTAGTCATAGCTATGCATGTAGCTACTCGATCGATCGATCGATCATCGATCGATATCGATGCATCGACTACTAT\n"
     ]
    }
   ],
   "source": [
    "my_dna =\"ATCGATCGATCGATCGACTGACTAGTCATAGCTATGCATGTAGCTACTCGATCGATCGATCGATCGATCGATCGATCGATCGATCATGCTATCA\\\n",
    "TCGATCGATATCGATGCATCGACTACTAT\"\n",
    "exon1 = my_dna[:62]\n",
    "exon2 = my_dna[90:]\n",
    "print(exon1 + exon2)"
   ]
  },
  {
   "cell_type": "markdown",
   "metadata": {},
   "source": [
    "Splicing out introns, part two:\n",
    "\n",
    "Using the data from part one, write a program that will calculate what \n",
    "percentage\n",
    "of the DNA sequence is coding.\n",
    "Reminder: if you're using Python 2 rather than Python 3, include this line at the \n",
    "top of your program:\n",
    "\n",
    "from __future__ import division"
   ]
  },
  {
   "cell_type": "code",
   "execution_count": 38,
   "metadata": {
    "collapsed": false
   },
   "outputs": [
    {
     "name": "stdout",
     "output_type": "stream",
     "text": [
      "77.23577235772358\n"
     ]
    }
   ],
   "source": [
    "my_dna =\"ATCGATCGATCGATCGACTGACTAGTCATAGCTATGCATGTAGCTACTCGATCGATCGATCGATCGATCGATCGATCGATCGATCATGCTATCA\\\n",
    "TCGATCGATATCGATGCATCGACTACTAT\"\n",
    "exon1 = my_dna[:62]\n",
    "exon2 = my_dna[90:]\n",
    "coding_length = len(exon1+exon2)\n",
    "total_length = len(my_dna)\n",
    "print(100 * (coding_length/total_length))"
   ]
  },
  {
   "cell_type": "markdown",
   "metadata": {},
   "source": [
    "Splicing out introns, part three\n",
    "\n",
    "Using the data from part one, write a program that will print out the original \n",
    "genomic DNA sequence with coding bases in uppercase and non-coding bases in \n",
    "lowercase. "
   ]
  },
  {
   "cell_type": "code",
   "execution_count": 45,
   "metadata": {
    "collapsed": false
   },
   "outputs": [
    {
     "name": "stdout",
     "output_type": "stream",
     "text": [
      "ATCGATCGATCGATCGACTGACTAGTCATAGCTATGCATGTAGCTACTCGATCGATCGATCGatcgatcgatcgatcgatcgatcatgctATCATCGATCGATATCGATGCATCGACTACTAT\n"
     ]
    }
   ],
   "source": [
    "my_dna =\"ATCGATCGATCGATCGACTGACTAGTCATAGCTATGCATGTAGCTACTCGATCGATCGATCGATCGATCGATCGATCGATCGATCATGCTATCA\\\n",
    "TCGATCGATATCGATGCATCGACTACTAT\"\n",
    "exon1 = my_dna[:62]\n",
    "intron = my_dna[62:90].lower()\n",
    "exon2 = my_dna[90:]\n",
    "print (exon1 + intron + exon2)\n"
   ]
  },
  {
   "cell_type": "markdown",
   "metadata": {},
   "source": [
    "Part II"
   ]
  },
  {
   "cell_type": "markdown",
   "metadata": {},
   "source": [
    "Splitting genomic DNA\n",
    "\n",
    "Look in the chapter_3 folder for a file called genomic_dna.txt – it contains the same \n",
    "piece of genomic DNA that we were using in the final exercise from chapter 2. Write\n",
    "a program that will split the genomic DNA into coding and non-coding parts, and \n",
    "write these sequences to two separate files. \n",
    "Hint: use your solution to the last exercise from chapter 2 as a starting point."
   ]
  },
  {
   "cell_type": "code",
   "execution_count": 72,
   "metadata": {
    "collapsed": false
   },
   "outputs": [
    {
     "ename": "FileNotFoundError",
     "evalue": "[Errno 2] No such file or directory: 'genomic_dna.txt'",
     "output_type": "error",
     "traceback": [
      "\u001b[0;31m---------------------------------------------------------------------------\u001b[0m",
      "\u001b[0;31mFileNotFoundError\u001b[0m                         Traceback (most recent call last)",
      "\u001b[0;32m<ipython-input-72-cf34d47e6446>\u001b[0m in \u001b[0;36m<module>\u001b[0;34m()\u001b[0m\n\u001b[0;32m----> 1\u001b[0;31m \u001b[0mdna_file\u001b[0m \u001b[0;34m=\u001b[0m \u001b[0mopen\u001b[0m\u001b[0;34m(\u001b[0m\u001b[0;34m\"genomic_dna.txt\"\u001b[0m\u001b[0;34m)\u001b[0m\u001b[0;34m\u001b[0m\u001b[0m\n\u001b[0m\u001b[1;32m      2\u001b[0m \u001b[0mmy_dna\u001b[0m \u001b[0;34m=\u001b[0m \u001b[0mdna_file\u001b[0m\u001b[0;34m.\u001b[0m\u001b[0mread\u001b[0m\u001b[0;34m(\u001b[0m\u001b[0;34m)\u001b[0m\u001b[0;34m\u001b[0m\u001b[0m\n",
      "\u001b[0;31mFileNotFoundError\u001b[0m: [Errno 2] No such file or directory: 'genomic_dna.txt'"
     ]
    }
   ],
   "source": [
    "dna_file = open(\"genomic_dna.txt\")\n",
    "my_dna = dna_file.read()"
   ]
  },
  {
   "cell_type": "markdown",
   "metadata": {},
   "source": [
    "Writing a FASTA file\n",
    "FASTA file format is a commonly-used DNA and protein sequence file format. A \n",
    "single sequence in FASTA format looks like this:\n",
    "\n",
    ">sequence_name\n",
    "ATCGACTGATCGATCGTACGAT\n",
    "\n",
    "Where sequence_name is a header that describes the sequence (the greater-than \n",
    "symbol indicates the start of the header line). Often, the header contains an \n",
    "accession number that relates to the record for the sequence in a public sequence \n",
    "database. A single FASTA file can contain multiple sequences, like this:\n",
    "\n",
    ">sequence_one\n",
    "ATCGATCGATCGATCGAT\n",
    ">sequence_two\n",
    "ACTAGCTAGCTAGCATCG\n",
    ">sequence_three\n",
    "ACTGCATCGATCGTACCT\n",
    "\n",
    "Write a program that will create a FASTA file for the following three sequences –\n",
    "make sure that all sequences are in upper case and only contain the bases A, T, G and C.\n",
    "\n",
    "Sequence header / DNA sequence\n",
    "ABC123 / ATCGTACGATCGATCGATCGCTAGACGTATCG\n",
    "DEF456 / actgatcgacgatcgatcgatcacgact\n",
    "HIJ789 / ACTGAC-ACTGT--ACTGTA----CATGTG"
   ]
  },
  {
   "cell_type": "code",
   "execution_count": 51,
   "metadata": {
    "collapsed": true
   },
   "outputs": [],
   "source": [
    "header_1 = \"ABC123\"\n",
    "header_2 = \"DEF456\"\n",
    "header_3 = \"HIJ789\"\n",
    "seq_1 = \"ATCGTACGATCGATCGATCGCTAGACGTATCG\"\n",
    "seq_2 = \"actgatcgacgatcgatcgatcacgact\"\n",
    "seq_3 = \"ACTGAC-ACTGT--ACTGTA----CATGTG\""
   ]
  },
  {
   "cell_type": "code",
   "execution_count": 53,
   "metadata": {
    "collapsed": false
   },
   "outputs": [
    {
     "name": "stdout",
     "output_type": "stream",
     "text": [
      "ABC123\n",
      "DEF456\n",
      "HIJ789\n",
      "ATCGTACGATCGATCGATCGCTAGACGTATCG\n",
      "actgatcgacgatcgatcgatcacgact\n",
      "ACTGAC-ACTGT--ACTGTA----CATGTG\n"
     ]
    }
   ],
   "source": [
    "print(header_1)\n",
    "print(header_2)\n",
    "print(header_3)\n",
    "print(seq_1)\n",
    "print(seq_2)\n",
    "print(seq_3)"
   ]
  },
  {
   "cell_type": "code",
   "execution_count": 57,
   "metadata": {
    "collapsed": false
   },
   "outputs": [
    {
     "name": "stdout",
     "output_type": "stream",
     "text": [
      ">ABC123\n",
      "ATCGTACGATCGATCGATCGCTAGACGTATCG\n",
      ">DEF456\n",
      "actgatcgacgatcgatcgatcacgact\n",
      ">HIJ789\n",
      "ACTGAC-ACTGT--ACTGTA----CATGTG\n"
     ]
    }
   ],
   "source": [
    "print (\">\" + header_1 + \"\\n\" + seq_1)\n",
    "print (\">\" + header_2 + \"\\n\" + seq_2)\n",
    "print (\">\" + header_3 + \"\\n\" + seq_3)"
   ]
  },
  {
   "cell_type": "code",
   "execution_count": 60,
   "metadata": {
    "collapsed": false
   },
   "outputs": [
    {
     "name": "stdout",
     "output_type": "stream",
     "text": [
      ">ABC123\n",
      "ATCGTACGATCGATCGATCGCTAGACGTATCG\n",
      ">DEF456\n",
      "ACTGATCGACGATCGATCGATCACGACT\n",
      ">HIJ789\n",
      "ACTGAC-ACTGT--ACTGTA----CATGTG\n"
     ]
    }
   ],
   "source": [
    "print (\">\" + header_1 + \"\\n\" + seq_1)\n",
    "print (\">\" + header_2 + \"\\n\" + seq_2.upper())\n",
    "print (\">\" + header_3 + \"\\n\" + seq_3)"
   ]
  },
  {
   "cell_type": "code",
   "execution_count": 62,
   "metadata": {
    "collapsed": false
   },
   "outputs": [
    {
     "name": "stdout",
     "output_type": "stream",
     "text": [
      ">ABC123\n",
      "ATCGTACGATCGATCGATCGCTAGACGTATCG\n",
      ">DEF456\n",
      "ACTGATCGACGATCGATCGATCACGACT\n",
      ">HIJ789\n",
      "ACTGACACTGTACTGTACATGTG\n"
     ]
    }
   ],
   "source": [
    "print (\">\" + header_1 + \"\\n\" + seq_1)\n",
    "print (\">\" + header_2 + \"\\n\" + seq_2.upper())\n",
    "print (\">\" + header_3 + \"\\n\" + seq_3.replace('-', ''))"
   ]
  },
  {
   "cell_type": "code",
   "execution_count": 66,
   "metadata": {
    "collapsed": true
   },
   "outputs": [],
   "source": [
    "output = open(\"sequences.fasta\", \"w\")\n",
    "output.write = ('>' + header_1 + '\\n' + seq_1)\n",
    "output.write = (\">\" + header_2 + \"\\n\" + seq_2.upper())\n",
    "output.write = (\">\" + header_3 + \"\\n\" + seq_3.replace('-', ''))"
   ]
  },
  {
   "cell_type": "code",
   "execution_count": 69,
   "metadata": {
    "collapsed": true
   },
   "outputs": [],
   "source": [
    "output = open(\"sequences.fasta\", \"w\")\n",
    "output.write = ('>' + header_1 + '\\n' + seq_1 + '\\n')\n",
    "output.write = (\">\" + header_2 + \"\\n\" + seq_2.upper() + '\\n')\n",
    "output.write = (\">\" + header_3 + \"\\n\" + seq_3.replace('-', '') + '\\n')"
   ]
  },
  {
   "cell_type": "code",
   "execution_count": 71,
   "metadata": {
    "collapsed": true
   },
   "outputs": [],
   "source": [
    "header_1 = \"ABC123\"\n",
    "header_2 = \"DEF456\"\n",
    "header_3 = \"HIJ789\"\n",
    "seq_1 = \"ATCGTACGATCGATCGATCGCTAGACGTATCG\"\n",
    "seq_2 = \"actgatcgacgatcgatcgatcacgact\"\n",
    "seq_3 = \"ACTGAC-ACTGT--ACTGTA----CATGTG\"\n",
    "\n",
    "output = open(\"sequences.fasta\", \"w\")\n",
    "\n",
    "output.write = ('>' + header_1 + '\\n' + seq_1 + '\\n')\n",
    "output.write = (\">\" + header_2 + \"\\n\" + seq_2.upper() + '\\n')\n",
    "output.write = (\">\" + header_3 + \"\\n\" + seq_3.replace('-', '') + '\\n')"
   ]
  },
  {
   "cell_type": "markdown",
   "metadata": {},
   "source": [
    "Part III"
   ]
  },
  {
   "cell_type": "code",
   "execution_count": null,
   "metadata": {
    "collapsed": true
   },
   "outputs": [],
   "source": [
    "file = open()"
   ]
  }
 ],
 "metadata": {
  "anaconda-cloud": {},
  "kernelspec": {
   "display_name": "Python [conda root]",
   "language": "python",
   "name": "conda-root-py"
  },
  "language_info": {
   "codemirror_mode": {
    "name": "ipython",
    "version": 3
   },
   "file_extension": ".py",
   "mimetype": "text/x-python",
   "name": "python",
   "nbconvert_exporter": "python",
   "pygments_lexer": "ipython3",
   "version": "3.5.2"
  }
 },
 "nbformat": 4,
 "nbformat_minor": 2
}
