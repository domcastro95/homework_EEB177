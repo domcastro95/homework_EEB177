{
 "cells": [
  {
   "cell_type": "markdown",
   "metadata": {},
   "source": [
    "Homework Week 6 "
   ]
  },
  {
   "cell_type": "markdown",
   "metadata": {
    "collapsed": true
   },
   "source": [
    "![Python_Syntax](/home/eeb177-student/Desktop/eeb-177/homework_EEB177/Homework_W6_pt_1/Python_Syntax.png)  \n",
    "![String_&_Console Output](/home/eeb177-student/Desktop/eeb-177/homework_EEB177/Homework_W6_pt_1/Strings_&_Console.png)  \n",
    "![Conditionals_&_Control_flow](/home/eeb177-student/Desktop/eeb-177/homework_EEB177/Homework_W6_pt_1/Conditionals.png)  \n",
    "![Functions](/home/eeb177-student/Desktop/eeb-177/homework_EEB177/Homework_W6_pt_1/Functions.png)  \n",
    "![Python_Lists_and_Dictionaries](/home/eeb177-student/Desktop/eeb-177/homework_EEB177/Homework_W6_pt_1/Python_Lists_and_Dictionaries.png)  \n",
    "![List_&_Functions](/home/eeb177-student/Desktop/eeb-177/homework_EEB177/Homework_W6_pt_1/Lists_and_Functions.png)  \n",
    "![Loops](/home/eeb177-student/Desktop/eeb-177/homework_EEB177/Homework_W6_pt_1/Loops_Badge.png)  \n",
    "![Practice_Makes_Perfect](/home/eeb177-student/Desktop/eeb-177/homework_EEB177/Homework_W6_pt_1/Practice_Makes_Perfect_Badge.png)  "
   ]
  },
  {
   "cell_type": "markdown",
   "metadata": {
    "collapsed": true
   },
   "source": [
    "# if pictures not found, you can check in the Homework_W6_pt_1 folder within the homework_EEB177 folder"
   ]
  },
  {
   "cell_type": "code",
   "execution_count": null,
   "metadata": {
    "collapsed": true
   },
   "outputs": [],
   "source": []
  }
 ],
 "metadata": {
  "anaconda-cloud": {},
  "kernelspec": {
   "display_name": "Python [conda root]",
   "language": "python",
   "name": "conda-root-py"
  },
  "language_info": {
   "codemirror_mode": {
    "name": "ipython",
    "version": 3
   },
   "file_extension": ".py",
   "mimetype": "text/x-python",
   "name": "python",
   "nbconvert_exporter": "python",
   "pygments_lexer": "ipython3",
   "version": "3.5.2"
  }
 },
 "nbformat": 4,
 "nbformat_minor": 2
}
