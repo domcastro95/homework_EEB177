{
 "cells": [
  {
   "cell_type": "markdown",
   "metadata": {},
   "source": [
    "Week 8 Homework Canids"
   ]
  },
  {
   "cell_type": "code",
   "execution_count": 55,
   "metadata": {
    "collapsed": true
   },
   "outputs": [],
   "source": [
    "#opens file\n",
    "file = \"/home/eeb177-student/Desktop/eeb-177/class-assignments/canids/formatted-pbdb.csv\"\n",
    "with open(file, 'r') as ff:\n",
    "    canid_recs = ff.readlines()\n"
   ]
  },
  {
   "cell_type": "code",
   "execution_count": 56,
   "metadata": {
    "collapsed": false
   },
   "outputs": [],
   "source": [
    "#use file\n",
    "from collections import defaultdict\n",
    "\n",
    "#dict is now a list\n",
    "species_ranges = defaultdict(list)"
   ]
  },
  {
   "cell_type": "code",
   "execution_count": 57,
   "metadata": {
    "collapsed": false
   },
   "outputs": [],
   "source": [
    "#make a dict\n",
    "for line in canid_recs:\n",
    "    #remove quotes \n",
    "    species = line.split(\",\")[5][1:-1]\n",
    "    minage = line.split(\",\")[10][1:-1]\n",
    "    maxage = line.split(\",\")[11][1:-1]\n",
    "    meanage = ((float(maxage) + float(minage))/2)\n",
    "    \n",
    "    species_ranges[species].append(meanage) #add species as key "
   ]
  },
  {
   "cell_type": "code",
   "execution_count": 58,
   "metadata": {
    "collapsed": false
   },
   "outputs": [],
   "source": [
    "# get the old and young fossels \n",
    "output = open(\"canid-ranges.csv\", \"w\")\n",
    "\n",
    "    \n",
    "# sort alphabetically \n",
    "sorted_species = sorted(species_ranges.keys())\n",
    "\n",
    "for key in species_ranges:\n",
    "    ages = species_ranges[key]\n",
    "    minage = min(ages)\n",
    "    maxage = max(ages)\n",
    "    genus = key.split(\" \")[0]\n",
    "    outline = \"{},{},{},{},{}\\n\".format(genus, key, minage, maxage, species_ranges)\n",
    "    output.write(outline)\n"
   ]
  },
  {
   "cell_type": "code",
   "execution_count": 59,
   "metadata": {
    "collapsed": true
   },
   "outputs": [],
   "source": [
    "#function1\n",
    "\n",
    "def function1 (file_name):\n",
    "    file = \"file_name\"\n",
    "    with open(file, 'r') as rr:\n",
    "        pbdb_data = rr.readlines()\n",
    "    species_info = defaultdict(list) #initilaize dict\n",
    "    \n",
    "    for line in pbdb_data:\n",
    "        species = line.split('\",\"')[5]\n",
    "        minage = float(line.split('\",\"')[10])\n",
    "        maxage = float(line.split('\",\"')[11])\n",
    "        species_info[species] = {minage, maxage}\n",
    "    return (species_info)\n"
   ]
  },
  {
   "cell_type": "code",
   "execution_count": 60,
   "metadata": {
    "collapsed": true
   },
   "outputs": [],
   "source": [
    "def function2(dict_name, output_name):\n",
    "    output = open(\"output_name\", \"w\") #output file\n",
    "    \n",
    "    for key in dict_name():\n",
    "        ages = dict_name[key]\n",
    "        minage = min(ages)\n",
    "        maxage = max(ages)\n",
    "        species_ranges = (maxage - minage)\n",
    "        genus = key.split(\" \")[0]\n",
    "        outline = \"{},{},{},{},{}\\n\".format(genus, key, minage, maxage, species_ranges)\n",
    "        output.write(outline)\n",
    "    "
   ]
  },
  {
   "cell_type": "code",
   "execution_count": 61,
   "metadata": {
    "collapsed": true
   },
   "outputs": [],
   "source": [
    "def function3(dict_name): \n",
    "    for key in dict_name():\n",
    "        ages = dict_name[key]\n",
    "        minage = min(ages)\n",
    "        maxage = max(ages)\n",
    "        species_range = (maxage - minage)\n",
    "    species_range.sort()\n",
    "    return(species_range)"
   ]
  },
  {
   "cell_type": "code",
   "execution_count": null,
   "metadata": {
    "collapsed": true
   },
   "outputs": [],
   "source": []
  }
 ],
 "metadata": {
  "anaconda-cloud": {},
  "kernelspec": {
   "display_name": "Python [conda root]",
   "language": "python",
   "name": "conda-root-py"
  },
  "language_info": {
   "codemirror_mode": {
    "name": "ipython",
    "version": 3
   },
   "file_extension": ".py",
   "mimetype": "text/x-python",
   "name": "python",
   "nbconvert_exporter": "python",
   "pygments_lexer": "ipython3",
   "version": "3.5.2"
  }
 },
 "nbformat": 4,
 "nbformat_minor": 2
}
