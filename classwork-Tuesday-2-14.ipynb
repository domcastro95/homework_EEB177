{
 "cells": [
  {
   "cell_type": "code",
   "execution_count": 24,
   "metadata": {
    "collapsed": false
   },
   "outputs": [],
   "source": [
    "def stringAnalyzer(ss):\n",
    "    # the (), its the scope analyzer\n",
    "    length = len(ss)\n",
    "    yy = 26\n",
    "    zz = length + yy\n",
    "    print (\"This string has {} characters\".format(length))\n",
    "    return zz\n"
   ]
  },
  {
   "cell_type": "code",
   "execution_count": 12,
   "metadata": {
    "collapsed": false
   },
   "outputs": [
    {
     "data": {
      "text/plain": [
       "'ggtct'"
      ]
     },
     "execution_count": 12,
     "metadata": {},
     "output_type": "execute_result"
    }
   ],
   "source": [
    "seq = \"ATCTTCT\"\n",
    "seq2 = \"GGTCT\"\n",
    "\n",
    "seq = seq.replace(\"A\", \"a\")\n",
    "seq = seq.replace(\"T\", \"t\")\n",
    "\n",
    "seq2 = seq2.replace(\"T\", \"t\")\n",
    "\n",
    "seq.lower()\n",
    "seq2.lower()"
   ]
  },
  {
   "cell_type": "code",
   "execution_count": 15,
   "metadata": {
    "collapsed": true
   },
   "outputs": [],
   "source": [
    "def greeter():\n",
    "# a function that just says hello\n",
    "    print(\"Welcome!\")\n",
    "    print(\"This function takes no arguments\")"
   ]
  },
  {
   "cell_type": "code",
   "execution_count": 16,
   "metadata": {
    "collapsed": false
   },
   "outputs": [
    {
     "name": "stdout",
     "output_type": "stream",
     "text": [
      "Welcome!\n",
      "This function takes no arguments\n"
     ]
    }
   ],
   "source": [
    "greeter()"
   ]
  },
  {
   "cell_type": "code",
   "execution_count": 17,
   "metadata": {
    "collapsed": false
   },
   "outputs": [
    {
     "name": "stdout",
     "output_type": "stream",
     "text": [
      "This string has 7 characters\n"
     ]
    }
   ],
   "source": [
    "stringAnalyzer(seq)\n",
    "# this applies to the function above on the top, it analyzes the string of the `seq`"
   ]
  },
  {
   "cell_type": "code",
   "execution_count": 25,
   "metadata": {
    "collapsed": false
   },
   "outputs": [
    {
     "name": "stdout",
     "output_type": "stream",
     "text": [
      "This string has 7 characters\n",
      "33\n"
     ]
    }
   ],
   "source": [
    "longer_length = stringAnalyzer(seq)\n",
    "print(longer_length)"
   ]
  },
  {
   "cell_type": "code",
   "execution_count": null,
   "metadata": {
    "collapsed": true
   },
   "outputs": [],
   "source": []
  },
  {
   "cell_type": "code",
   "execution_count": 37,
   "metadata": {
    "collapsed": false
   },
   "outputs": [
    {
     "name": "stdout",
     "output_type": "stream",
     "text": [
      "0.45\n",
      "0.56\n",
      "0.65\n"
     ]
    }
   ],
   "source": [
    "#what is this argument? get_at_content\n",
    "#name of the string is DNA\n",
    "seq = \"ATTCGTTAT\"\n",
    "def get_at_content(dna):\n",
    "    dna = dna.upper.count() # make sure the seq is uppercase \n",
    "    length = len(dna)\n",
    "    a_count = dna.count('A') + dna.count('a')\n",
    "    t_count = dna.upper().count('T')\n",
    "    at_content = (a_count + t_count) / length\n",
    "    return round(at_content, 2) # returning the fractions of A and T in the seq, \n",
    "# round() helps round to 2 decimal places\n",
    "\n",
    "my_at_content = get_at_content(\"ATGCGCGATCGATCGAATCG\")\n",
    "print(str(my_at_content))\n",
    "print(get_at_content(\"ATGCTGACA\"))\n",
    "print(get_at_content(\"atgctatgcatgcaaaa\"))"
   ]
  },
  {
   "cell_type": "markdown",
   "metadata": {},
   "source": [
    "testing if function is working "
   ]
  },
  {
   "cell_type": "code",
   "execution_count": 30,
   "metadata": {
    "collapsed": false
   },
   "outputs": [
    {
     "data": {
      "text/plain": [
       "0.7777777777777778"
      ]
     },
     "execution_count": 30,
     "metadata": {},
     "output_type": "execute_result"
    }
   ],
   "source": [
    "get_at_content(seq)\n",
    "#dom's practice"
   ]
  },
  {
   "cell_type": "code",
   "execution_count": 33,
   "metadata": {
    "collapsed": false
   },
   "outputs": [
    {
     "name": "stdout",
     "output_type": "stream",
     "text": [
      "0.5294117647058824\n",
      "0.5833333333333334\n"
     ]
    }
   ],
   "source": [
    "print (get_at_content(\"ATGCATGCAACTGTAGC\"))\n",
    "\n",
    "print (get_at_content (\"atgcatgcaact\"))"
   ]
  },
  {
   "cell_type": "code",
   "execution_count": 34,
   "metadata": {
    "collapsed": true
   },
   "outputs": [],
   "source": [
    "?seq.count()"
   ]
  },
  {
   "cell_type": "code",
   "execution_count": 49,
   "metadata": {
    "collapsed": true
   },
   "outputs": [],
   "source": [
    "?round"
   ]
  },
  {
   "cell_type": "markdown",
   "metadata": {},
   "source": [
    "## in class challenge \n",
    "\n",
    "wirite a function that counts the number of As, Ts, Cs and Gs. Use a loop"
   ]
  },
  {
   "cell_type": "code",
   "execution_count": 47,
   "metadata": {
    "collapsed": false
   },
   "outputs": [],
   "source": [
    "def baseCounter(dna):\n",
    "    baseDict = {} # will hold my counts , created an empty container to populate the dict\n",
    "    for cc in [\"A\", \"T\", \"C\", \"G\"]: #these are added into the baseDict\n",
    "    #inside the parenthesis is the argument\n",
    "        count = dna.upper().count(cc) # get the upper case of the seq, and then count characters that we are on \n",
    "        #upperseq = dna.upper()\n",
    "        #count = upperseq.count()\n",
    "        #this can be either the top function of 1 line to 2 lines \n",
    "        baseDict[cc]=count\n",
    "    # print (cc + \"=\" + str(count))\n",
    "    return baseDict\n",
    "    \n",
    "dd = baseCounter(seq)"
   ]
  },
  {
   "cell_type": "code",
   "execution_count": 48,
   "metadata": {
    "collapsed": false
   },
   "outputs": [
    {
     "data": {
      "text/plain": [
       "dict_keys(['C', 'A', 'T', 'G'])"
      ]
     },
     "execution_count": 48,
     "metadata": {},
     "output_type": "execute_result"
    }
   ],
   "source": [
    "dd.keys()"
   ]
  },
  {
   "cell_type": "code",
   "execution_count": 79,
   "metadata": {
    "collapsed": false
   },
   "outputs": [],
   "source": [
    "def get_at_content(dna, sigfig): #functions can take more than 1 argument\n",
    "    length = len(dna)\n",
    "    a_count = dna.count('A')\n",
    "    t_count = dna.count('T')\n",
    "    at_content = (a_count + t_count) / length\n",
    "    rounded = round(at_content, sigfig)\n",
    "    return rounded #it will round to the # of significant figures "
   ]
  },
  {
   "cell_type": "code",
   "execution_count": 78,
   "metadata": {
    "collapsed": false
   },
   "outputs": [
    {
     "data": {
      "text/plain": [
       "0.45"
      ]
     },
     "execution_count": 78,
     "metadata": {},
     "output_type": "execute_result"
    }
   ],
   "source": [
    "get_at_content (\"ATGCGCGATCGATCGAATCG\", 2) #added a second argument to make this def work"
   ]
  },
  {
   "cell_type": "code",
   "execution_count": 76,
   "metadata": {
    "collapsed": false
   },
   "outputs": [
    {
     "ename": "TypeError",
     "evalue": "get_at_content() missing 1 required positional argument: 'sigfig'",
     "output_type": "error",
     "traceback": [
      "\u001b[0;31m---------------------------------------------------------------------------\u001b[0m",
      "\u001b[0;31mTypeError\u001b[0m                                 Traceback (most recent call last)",
      "\u001b[0;32m<ipython-input-76-8be2b6ef96bf>\u001b[0m in \u001b[0;36m<module>\u001b[0;34m()\u001b[0m\n\u001b[0;32m----> 1\u001b[0;31m \u001b[0mget_at_content\u001b[0m\u001b[0;34m(\u001b[0m\u001b[0mseq\u001b[0m\u001b[0;34m)\u001b[0m\u001b[0;34m\u001b[0m\u001b[0m\n\u001b[0m\u001b[1;32m      2\u001b[0m \u001b[0mprint\u001b[0m\u001b[0;34m(\u001b[0m\u001b[0ma_count\u001b[0m\u001b[0;34m)\u001b[0m\u001b[0;34m\u001b[0m\u001b[0m\n",
      "\u001b[0;31mTypeError\u001b[0m: get_at_content() missing 1 required positional argument: 'sigfig'"
     ]
    }
   ],
   "source": [
    "get_at_content(seq)\n",
    "print(a_count)"
   ]
  },
  {
   "cell_type": "code",
   "execution_count": 71,
   "metadata": {
    "collapsed": true
   },
   "outputs": [],
   "source": [
    "seq = \"ATGCATGATGAGA\"\n",
    "\n",
    "def get_at_content(dna):\n",
    "    dnalist = [] # if this is deleted, \n",
    "    length = len(dna)\n",
    "    a_count = dna.count('A')\n",
    "    t_count = dna.count('T')\n",
    "    at_content = (a_count + t_count) / length\n",
    "    dnalist.append(length) # these append goes on the end of the list\n",
    "    dnalist = [length, a_count, t_count, at_content]\n",
    "    #one can also append\n",
    "    #dnalist.append (length)\n",
    "    #dnalist.append(a_count)\n",
    "    # and so on... same translation \n",
    "    return dnalist"
   ]
  },
  {
   "cell_type": "code",
   "execution_count": 72,
   "metadata": {
    "collapsed": false
   },
   "outputs": [],
   "source": [
    "res = get_at_content(seq)"
   ]
  },
  {
   "cell_type": "code",
   "execution_count": 73,
   "metadata": {
    "collapsed": false
   },
   "outputs": [
    {
     "data": {
      "text/plain": [
       "0.6153846153846154"
      ]
     },
     "execution_count": 73,
     "metadata": {},
     "output_type": "execute_result"
    }
   ],
   "source": [
    "res [-1]"
   ]
  },
  {
   "cell_type": "code",
   "execution_count": null,
   "metadata": {
    "collapsed": true
   },
   "outputs": [],
   "source": []
  }
 ],
 "metadata": {
  "anaconda-cloud": {},
  "kernelspec": {
   "display_name": "Python [conda root]",
   "language": "python",
   "name": "conda-root-py"
  },
  "language_info": {
   "codemirror_mode": {
    "name": "ipython",
    "version": 3
   },
   "file_extension": ".py",
   "mimetype": "text/x-python",
   "name": "python",
   "nbconvert_exporter": "python",
   "pygments_lexer": "ipython3",
   "version": "3.5.2"
  }
 },
 "nbformat": 4,
 "nbformat_minor": 2
}
